{
 "metadata": {
  "language_info": {
   "codemirror_mode": {
    "name": "ipython",
    "version": 3
   },
   "file_extension": ".py",
   "mimetype": "text/x-python",
   "name": "python",
   "nbconvert_exporter": "python",
   "pygments_lexer": "ipython3",
   "version": "3.9.2"
  },
  "orig_nbformat": 2,
  "kernelspec": {
   "name": "python392jvsc74a57bd070dc6e59c876987feb607a01dfc3a1f1db267110d2b6cf914c9a9f09e8ab1daa",
   "display_name": "Python 3.9.2 64-bit"
  },
  "metadata": {
   "interpreter": {
    "hash": "70dc6e59c876987feb607a01dfc3a1f1db267110d2b6cf914c9a9f09e8ab1daa"
   }
  }
 },
 "nbformat": 4,
 "nbformat_minor": 2,
 "cells": [
  {
   "cell_type": "code",
   "execution_count": null,
   "metadata": {},
   "outputs": [],
   "source": [
    "import numpy as np \n",
    "import pandas as pd"
   ]
  },
  {
   "cell_type": "code",
   "execution_count": null,
   "metadata": {},
   "outputs": [],
   "source": [
    "df=pd.read_csv('titanic.csv')\n",
    "df"
   ]
  },
  {
   "cell_type": "code",
   "execution_count": null,
   "metadata": {},
   "outputs": [],
   "source": [
    "#question 1\n",
    "\n",
    "columns = pd.MultiIndex.from_product([df.pclass.unique(),df.survived.unique()], names=['Pclass','Survived'])\n",
    "\n",
    "index = pd.MultiIndex.from_product([df.sex.unique(),df.embarked.unique()],names=['Sex','Embarked'])\n",
    "\n",
    "df1 = pd.DataFrame(np.random.randn(8,6), index=index, columns=columns)\n",
    "df1"
   ]
  },
  {
   "cell_type": "code",
   "execution_count": null,
   "metadata": {},
   "outputs": [],
   "source": [
    "#question 2\n",
    "df2=pd.read_csv('train.csv')\n",
    "df2"
   ]
  },
  {
   "cell_type": "code",
   "execution_count": null,
   "metadata": {},
   "outputs": [],
   "source": [
    "df3=df2.pivot(index='Name', columns='Ticket', values='Age')\n",
    "df3\n"
   ]
  },
  {
   "cell_type": "code",
   "execution_count": null,
   "metadata": {},
   "outputs": [],
   "source": [
    "df1"
   ]
  },
  {
   "cell_type": "code",
   "execution_count": null,
   "metadata": {},
   "outputs": [],
   "source": [
    "#guestion 3\n",
    "df1.stack(-1).unstack(0)"
   ]
  },
  {
   "cell_type": "code",
   "execution_count": null,
   "metadata": {},
   "outputs": [],
   "source": [
    "#guestion 4\n",
    "\n",
    "pd.melt(df2,id_vars=['Name','Embarked'],value_vars=[\"Sex\",\"Age\"], var_name='Var1', value_name='Var2')"
   ]
  },
  {
   "cell_type": "code",
   "execution_count": null,
   "metadata": {},
   "outputs": [],
   "source": [
    "#guestion5\n",
    "df2.pivot_table(values=[\"Fare\",\"Age\"],index='Embarked', aggfunc={'Fare':np.mean,'Age':np.median})"
   ]
  },
  {
   "cell_type": "code",
   "execution_count": null,
   "metadata": {},
   "outputs": [],
   "source": [
    "df2.pivot_table(values=[\"Fare\",\"Age\"],index=['Embarked','Sex','Pclass'],aggfunc={'Fare':np.mean,'Age':np.median})"
   ]
  },
  {
   "cell_type": "code",
   "execution_count": null,
   "metadata": {},
   "outputs": [],
   "source": [
    "df2.pivot_table(values=[\"Fare\",\"Age\"],index=['Embarked','Sex','Pclass'], aggfunc={'Fare':[np.mean,np.sum],'Age':[np.median,np.std]})"
   ]
  }
 ]
}